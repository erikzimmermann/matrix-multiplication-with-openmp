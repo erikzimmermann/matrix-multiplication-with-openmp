{
 "cells": [
  {
   "cell_type": "code",
   "execution_count": 48,
   "metadata": {
    "collapsed": true
   },
   "outputs": [
    {
     "name": "stdout",
     "output_type": "stream",
     "text": [
      "{'naive': [0.3524, 2.8191, 9.9958, 21.7125, 57.387, 106.7012, 207.492, 230.175, 445.84], 'seq': [0.325, 2.552, 8.8686, 20.6917, 39.9139, 70.5438, 111.6588, 167.2738, 237.506], 'omp-4': [0.1042, 0.6891, 2.2743, 5.3166, 10.5051, 18.3943, 29.6172, 43.9955, 63.3926], 'omp-9': [0.0769, 0.5057, 1.5645, 3.6734, 7.3391, 13.5106, 21.9711, 32.6951, 46.8271], 'omp-16': [0.0417, 0.2047, 0.6954, 1.554, 2.9981, 5.0649, 8.1998, 11.8976, 17.4656], 'omp-25': [0.035, 0.1537, 0.4904, 1.1318, 2.1481, 3.7113, 5.9404, 8.5143, 12.5136], 'omp-36': [0.0323, 0.1245, 0.3539, 0.7761, 1.5294, 2.6717, 4.3463, 6.2756, 9.3794, 1.1837, 9.1384, 41.6498, 72.3246, 117.2882, 329.4638, 451.7212], 'omp-38': [0.0348, 0.1176, 0.36, 0.773, 1.5316, 2.6914, 4.3926, 6.3686, 9.4285], 'mpi-4': [0.0867, 0.6937, 2.3613, 5.5322, 10.7567, 18.8341, 29.7814, 44.1214, 62.8241, 0.0897, 0.704, 2.382, 5.5769, 10.8345, 18.9489, 0.0, 0.0, 0.0, 0.0899, 0.7061, 2.383, 5.5845, 10.8483, 18.9496, 29.9883, 44.3107, 63.2653], 'mpi-9': [0.0404, 0.3102, 1.061, 2.4903, 4.9155, 8.3875, 13.2871, 19.6896, 28.5172, 0.0425, 0.3197, 1.0757, 2.5375, 4.9455, 8.4736, 13.3837, 19.8856, 28.6911], 'mpi-16': [0.0238, 0.1803, 0.6043, 1.4177, 2.7672, 4.832, 7.6091, 11.2813, 15.9732, 0.0269, 0.1904, 0.6248, 1.456, 2.8244, 4.9068, 7.7088, 11.4005, 16.1501], 'mpi-25': [0.0155, 0.1152, 0.3811, 0.9061, 1.7543, 3.0392, 4.7951, 7.2401, 10.2342, 0.0194, 0.1396, 0.4245, 0.9764, 1.8589, 3.1807, 4.9831, 7.4675, 10.538], 'mpi-36': [0.0114, 0.0824, 0.2743, 0.6301, 1.2379, 2.1213, 3.3741, 5.0314, 7.2113, 0.0161, 0.1074, 0.3159, 0.6961, 1.3344, 2.2661, 3.5314, 5.2247, 7.4611], 'mpi-49': [0.0091, 0.062, 0.2039, 0.4733, 0.9077, 1.5811, 2.4867, 3.7349, 5.2841, 0.0153, 0.0876, 0.2483, 0.5448, 1.0076, 1.7153, 2.6701, 3.9191, 5.5317], 'mpi-64': [0.0076, 0.0518, 0.1703, 0.367, 0.7117, 1.2262, 1.9385, 2.8608, 4.0996, 0.0138, 0.0634, 0.2067, 0.4379, 0.804, 1.3521, 2.093, 3.0747, 4.3252], 'mpiomp-64': [0.0209, 0.066, 0.2287, 0.362, 0.6101, 0.9803, 1.4511, 2.0875, 2.8391], 'mpiomp-49': [0.022, 0.0791, 0.2219, 0.398, 0.7142, 1.1976, 1.7905, 2.5573, 3.556], 'mpiomp-36': [0.0227, 0.0887, 0.252, 0.4831, 0.9282, 1.5248, 2.3019, 3.3358, 5.101], 'mpiomp-25': [0.0267, 0.1102, 0.3066, 0.6656, 1.21, 1.9829, 3.0748, 4.8762, 6.8099], 'mpiomp-16': [0.0324, 0.1412, 0.4369, 0.9662, 1.7998, 3.2937, 5.1001, 7.3917, 10.3596], 'mpiomp-9': [0.0434, 0.2013, 0.6475, 1.4437, 2.9452, 4.9198, 7.5874, 11.1179, 17.2946], 'mpiomp-4': [0.0, 0.0, 0.0708, 0.4296, 1.4454, 3.2246, 6.0806, 11.4113, 17.5607, 25.5912, 35.769]} [500, 1000, 1500, 2000, 2500, 3000, 3500, 4000, 4500, 504, 999, 1503, 1998, 2502, 2997, 3501, 3996, 498, 1002, 3498, 4002, 497, 1001, 1498, 2002, 2499, 3003, 4004, 4501, 1504, 2504, 3504, 4504, 496, 1496, 2496, 3496, 4496, 3997, 501, 2001, 3999] ['naive', 'seq', 'omp-4', 'omp-9', 'omp-16', 'omp-25', 'omp-36', 'omp-38', 'mpi-4', 'mpi-9', 'mpi-16', 'mpi-25', 'mpi-36', 'mpi-49', 'mpi-64', 'mpiomp-64', 'mpiomp-49', 'mpiomp-36', 'mpiomp-25', 'mpiomp-16', 'mpiomp-9', 'mpiomp-4']\n"
     ]
    }
   ],
   "source": [
    "with open(\"run.out\") as f:\n",
    "    content = f.readlines()\n",
    "\n",
    "sizes = []\n",
    "types = []\n",
    "runs = {}\n",
    "\n",
    "for run in content:\n",
    "    if len(run) == 1 or run.startswith(\"#\"):\n",
    "        continue\n",
    "\n",
    "    type_data, time = run.split(\", \")\n",
    "    algorithm, size = type_data.split(\": \")\n",
    "\n",
    "    time = float(time[6:-2])\n",
    "    size = int(size.split(\"x\")[0])\n",
    "\n",
    "    if size  not in sizes:\n",
    "        sizes.append(size)\n",
    "\n",
    "    if algorithm not in types:\n",
    "        types.append(algorithm)\n",
    "\n",
    "    if algorithm not in runs:\n",
    "        runs[algorithm] = []\n",
    "    runs.get(algorithm).append(time)\n",
    "\n",
    "print(runs, sizes, types)"
   ]
  },
  {
   "cell_type": "code",
   "execution_count": null,
   "outputs": [],
   "source": [
    "import matplotlib.pyplot as plt\n",
    "\n",
    "# Define the x-axis values\n",
    "x = sizes\n",
    "\n",
    "# Define the line colors and markers\n",
    "colors = ['red', 'blue', 'green', 'purple', 'orange', 'cyan', 'magenta', 'yellow', 'brown', 'gray', 'olive', 'teal', 'navy', 'pink', 'gold']\n",
    "markers = ['o', 's', 'D', '^', 'v', 'P', 'X', '*', '+']\n",
    "markers *= 2\n",
    "\n",
    "\n",
    "# Create a figure and axis object\n",
    "fig, ax = plt.subplots(figsize=(12, 8))\n",
    "\n",
    "# Iterate over the types and plot the corresponding runs\n",
    "for i, t in enumerate(types):\n",
    "    if t == \"omp-38\":\n",
    "        continue\n",
    "    ax.plot(x[:len(runs[t])], runs[t], label=t, color=colors[i], marker=markers[i])\n",
    "\n",
    "# Set the axis labels and title\n",
    "ax.set_xlabel('Matrix Size')\n",
    "ax.set_ylabel('Time (s)')\n",
    "# ax.set_title('Comparison of runtimes by implementation type and size')\n",
    "\n",
    "# Set the x-axis tick values to only show available sizes\n",
    "ax.set_xticks([500, 1000, 1500, 2000, 2500, 3000, 3500, 4000, 4500])\n",
    "\n",
    "# Add a legend\n",
    "ax.legend(fontsize=15)\n",
    "\n",
    "# Show the plot\n",
    "plt.show()\n"
   ],
   "metadata": {
    "collapsed": false,
    "pycharm": {
     "is_executing": true
    }
   }
  },
  {
   "cell_type": "code",
   "execution_count": null,
   "outputs": [],
   "source": [
    "import matplotlib.pyplot as plt\n",
    "\n",
    "# Define the x-axis values\n",
    "x = sizes\n",
    "\n",
    "lookup = [\"omp-16\", \"mpi-16\", \"mpi-25\", \"mpi-36\", \"mpi-49\", \"mpi-64\"]\n",
    "# Define the line colors and markers\n",
    "colors = ['red', 'blue', 'green', 'purple', 'orange', 'cyan', 'magenta', 'yellow', 'brown', 'gray', 'olive', 'teal', 'navy', 'pink', 'gold']\n",
    "markers = ['o', 's', 'D', '^', 'v', 'P', 'X', '*', '+']\n",
    "markers *= 2\n",
    "\n",
    "# Create a figure and axis object\n",
    "fig, ax = plt.subplots(figsize=(12, 8))\n",
    "\n",
    "# Iterate over the types and plot the corresponding runs\n",
    "for i, t in enumerate(types):\n",
    "    # if t not in lookup:\n",
    "    #     continue\n",
    "    if not t.startswith(\"mpi\") and not t.startswith(\"omp\") or \"-4\" in t or \"-9\" in t or t == \"omp-38\":\n",
    "        continue\n",
    "    ax.plot(x[:len(runs[t])], runs[t], label=t, color=colors[i], marker=markers[i])\n",
    "\n",
    "# Set the axis labels and title\n",
    "ax.set_xlabel('Matrix Size')')\n",
    "ax.set_ylabel('Time (s)')\n",
    "# ax.set_title('Comparison of runtimes by implementation type and size')\n",
    "\n",
    "# Set the x-axis tick values to only show available sizes\n",
    "ax.set_xticks([500, 1000, 1500, 2000, 2500, 3000, 3500, 4000, 4500])\n",
    "\n",
    "# Add a legend\n",
    "ax.legend(fontsize=15)\n",
    "\n",
    "# Show the plot\n",
    "plt.show()\n"
   ],
   "metadata": {
    "collapsed": false,
    "pycharm": {
     "is_executing": true
    }
   }
  },
  {
   "cell_type": "code",
   "execution_count": null,
   "outputs": [],
   "source": [
    "import math\n",
    "\n",
    "numbers = [504, 999, 1503, 1998, 2502, 2997, 3501, 3996, 4500]\n",
    "gcd = numbers[0]\n",
    "\n",
    "for i in range(1, len(numbers)):\n",
    "    gcd = math.gcd(gcd, numbers[i])\n",
    "\n",
    "print(\"The common divisor of the numbers is:\", gcd)\n"
   ],
   "metadata": {
    "collapsed": false,
    "pycharm": {
     "is_executing": true
    }
   }
  },
  {
   "cell_type": "code",
   "execution_count": 43,
   "outputs": [],
   "source": [
    "block_size = {\n",
    "    \"1\": [],\n",
    "    \"2\": [],\n",
    "    \"4\": [],\n",
    "    \"8\": [],\n",
    "    \"16\": [],\n",
    "    \"32\": [],\n",
    "    \"64\": [],\n",
    "    \"128\": []\n",
    "}"
   ],
   "metadata": {
    "collapsed": false
   }
  },
  {
   "cell_type": "code",
   "execution_count": 44,
   "outputs": [],
   "source": [
    "input_data = \"\"\"\n",
    "1: 0.0104945\n",
    "2: 0.0093684\n",
    "4: 0.00906472\n",
    "8: 0.00909932\n",
    "16: 0.00952969\n",
    "32: 0.0104835\n",
    "64: 0.0106614\n",
    "128: 0.0203033\n",
    "\n",
    "1: 0.0843053\n",
    "2: 0.0727157\n",
    "4: 0.0716224\n",
    "8: 0.0706326\n",
    "16: 0.0723477\n",
    "32: 0.075596\n",
    "64: 0.0822057\n",
    "128: 0.083749\n",
    "\n",
    "1: 0.265107\n",
    "2: 0.25295\n",
    "4: 0.246485\n",
    "8: 0.239233\n",
    "16: 0.237546\n",
    "32: 0.238264\n",
    "64: 0.249639\n",
    "128: 0.248967\n",
    "\n",
    "1: 0.653957\n",
    "2: 0.602363\n",
    "4: 0.575931\n",
    "8: 0.564085\n",
    "16: 0.560378\n",
    "32: 0.573834\n",
    "64: 0.606257\n",
    "128: 0.673454\n",
    "\n",
    "1: 1.75278\n",
    "2: 1.43824\n",
    "4: 1.2593\n",
    "8: 1.1768\n",
    "16: 1.13237\n",
    "32: 1.13505\n",
    "64: 1.16316\n",
    "128: 1.36802\n",
    "\n",
    "1: 3.46614\n",
    "2: 2.69163\n",
    "4: 2.25879\n",
    "8: 2.05513\n",
    "16: 1.96744\n",
    "32: 1.97394\n",
    "64: 2.03604\n",
    "128: 2.16882\n",
    "\n",
    "1: 5.83455\n",
    "2: 4.43644\n",
    "4: 3.76045\n",
    "8: 3.37235\n",
    "16: 3.18692\n",
    "32: 3.19336\n",
    "64: 3.3098\n",
    "128: 3.8507\n",
    "\n",
    "1: 8.08791\n",
    "2: 6.89422\n",
    "4: 6.28002\n",
    "8: 5.9089\n",
    "16: 5.77881\n",
    "32: 5.94145\n",
    "64: 6.20965\n",
    "128: 7.38156\n",
    "\n",
    "1: 16.0394\n",
    "2: 12.2184\n",
    "4: 10.4503\n",
    "8: 9.04071\n",
    "16: 8.50311\n",
    "32: 8.62098\n",
    "64: 9.41218\n",
    "128: 9.54277\n",
    "\"\"\""
   ],
   "metadata": {
    "collapsed": false
   }
  },
  {
   "cell_type": "code",
   "execution_count": 45,
   "outputs": [],
   "source": [
    "# Split input_data in lines and append every value into block_size\n",
    "for line in input_data.split(\"\\n\"):\n",
    "    if len(line) == 0:\n",
    "        continue\n",
    "    size, time = line.split(\": \")\n",
    "    block_size[size].append(float(time))"
   ],
   "metadata": {
    "collapsed": false
   }
  },
  {
   "cell_type": "code",
   "execution_count": null,
   "outputs": [],
   "source": [
    "import matplotlib.pyplot as plt\n",
    "\n",
    "start = 0\n",
    "sizes = [500, 1000, 1500, 2000, 2500, 3000, 3500, 4000, 4500]\n",
    "\n",
    "# Define the line colors and markers\n",
    "colors = ['red', 'blue', 'green', 'purple', 'orange', 'cyan', 'magenta', 'brown', 'gray', 'olive', 'teal', 'navy', 'pink', 'gold']\n",
    "markers = ['o', 's', 'D', '^', 'v', 'P', 'X', '*', '+']\n",
    "markers *= 2\n",
    "\n",
    "# Create a figure and axis object\n",
    "fig, ax = plt.subplots(figsize=(12, 8))\n",
    "\n",
    "# Iterate over the types and plot the corresponding runs\n",
    "for i, t in enumerate(block_size.keys()):\n",
    "    # if t == \"1\" or t == \"2\" or t == \"128\":\n",
    "    #     continue\n",
    "    ax.plot(sizes[start:len(block_size[t])], block_size[t][start:], label=t, color=colors[i], marker=markers[i])\n",
    "\n",
    "# Set the axis labels and title\n",
    "ax.set_xlabel('Matrix Size')\n",
    "ax.set_ylabel('Time (s)')\n",
    "# ax.set_title('Comparison of runtimes by implementation type and size')\n",
    "\n",
    "# Set the x-axis tick values to only show available sizes\n",
    "ax.set_xticks(sizes)\n",
    "\n",
    "# Add a legend\n",
    "ax.legend(fontsize=15)\n",
    "\n",
    "# Show the plot\n",
    "plt.show()\n"
   ],
   "metadata": {
    "collapsed": false,
    "pycharm": {
     "is_executing": true
    }
   }
  },
  {
   "cell_type": "code",
   "execution_count": null,
   "outputs": [],
   "source": [],
   "metadata": {
    "collapsed": false
   }
  }
 ],
 "metadata": {
  "kernelspec": {
   "display_name": "Python 3",
   "language": "python",
   "name": "python3"
  },
  "language_info": {
   "codemirror_mode": {
    "name": "ipython",
    "version": 2
   },
   "file_extension": ".py",
   "mimetype": "text/x-python",
   "name": "python",
   "nbconvert_exporter": "python",
   "pygments_lexer": "ipython2",
   "version": "2.7.6"
  }
 },
 "nbformat": 4,
 "nbformat_minor": 0
}
