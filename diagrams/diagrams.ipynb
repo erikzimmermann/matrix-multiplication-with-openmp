{
 "cells": [
  {
   "cell_type": "code",
   "execution_count": null,
   "metadata": {
    "collapsed": true,
    "pycharm": {
     "is_executing": true
    }
   },
   "outputs": [],
   "source": [
    "with open(\"run.out\") as f:\n",
    "    content = f.readlines()\n",
    "\n",
    "sizes = []\n",
    "types = []\n",
    "runs = {}\n",
    "\n",
    "for run in content:\n",
    "    if len(run) == 1 or run.startswith(\"#\"):\n",
    "        continue\n",
    "\n",
    "    type_data, time = run.split(\", \")\n",
    "    algorithm, size = type_data.split(\": \")\n",
    "\n",
    "    time = float(time[6:-2])\n",
    "    size = int(size.split(\"x\")[0])\n",
    "\n",
    "    if size  not in sizes:\n",
    "        sizes.append(size)\n",
    "\n",
    "    if algorithm not in types:\n",
    "        types.append(algorithm)\n",
    "\n",
    "    if algorithm not in runs:\n",
    "        runs[algorithm] = []\n",
    "    runs.get(algorithm).append(time)\n",
    "\n",
    "print(runs, sizes, types)"
   ]
  },
  {
   "cell_type": "code",
   "execution_count": null,
   "outputs": [],
   "source": [
    "import matplotlib.pyplot as plt\n",
    "\n",
    "# Define the x-axis values\n",
    "x = sizes\n",
    "\n",
    "# Define the line colors and markers\n",
    "colors = ['red', 'blue', 'green', 'purple', 'orange', 'cyan', 'magenta', 'yellow', 'brown', 'gray', 'olive', 'teal', 'navy', 'pink', 'gold']\n",
    "markers = ['o', 's', 'D', '^', 'v', 'P', 'X', '*', '+']\n",
    "markers *= 2\n",
    "\n",
    "\n",
    "# Create a figure and axis object\n",
    "fig, ax = plt.subplots(figsize=(12, 8))\n",
    "\n",
    "# Iterate over the types and plot the corresponding runs\n",
    "for i, t in enumerate(types):\n",
    "    if t == \"omp-38\":\n",
    "        continue\n",
    "    ax.plot(x[:len(runs[t])], runs[t], label=t, color=colors[i], marker=markers[i])\n",
    "\n",
    "# Set the axis labels and title\n",
    "ax.set_xlabel('Size')\n",
    "ax.set_ylabel('Time (s)')\n",
    "# ax.set_title('Comparison of runtimes by implementation type and size')\n",
    "\n",
    "# Set the x-axis tick values to only show available sizes\n",
    "ax.set_xticks([500, 1000, 1500, 2000, 2500, 3000, 3500, 4000, 4500])\n",
    "\n",
    "# Add a legend\n",
    "ax.legend(fontsize=15)\n",
    "\n",
    "# Show the plot\n",
    "plt.show()\n"
   ],
   "metadata": {
    "collapsed": false,
    "pycharm": {
     "is_executing": true
    }
   }
  },
  {
   "cell_type": "code",
   "execution_count": null,
   "outputs": [],
   "source": [
    "import matplotlib.pyplot as plt\n",
    "\n",
    "# Define the x-axis values\n",
    "x = sizes\n",
    "\n",
    "lookup = [\"omp-16\", \"mpi-16\", \"mpi-25\", \"mpi-36\", \"mpi-49\", \"mpi-64\"]\n",
    "# Define the line colors and markers\n",
    "colors = ['red', 'blue', 'green', 'purple', 'orange', 'cyan', 'magenta', 'yellow', 'brown', 'gray', 'olive', 'teal', 'navy', 'pink', 'gold']\n",
    "markers = ['o', 's', 'D', '^', 'v', 'P', 'X', '*', '+']\n",
    "markers *= 2\n",
    "\n",
    "# Create a figure and axis object\n",
    "fig, ax = plt.subplots(figsize=(12, 8))\n",
    "\n",
    "# Iterate over the types and plot the corresponding runs\n",
    "for i, t in enumerate(types):\n",
    "    # if t not in lookup:\n",
    "    #     continue\n",
    "    if not t.startswith(\"mpi\") and not t.startswith(\"omp\") or \"-4\" in t or \"-9\" in t or t == \"omp-38\":\n",
    "        continue\n",
    "    ax.plot(x[:len(runs[t])], runs[t], label=t, color=colors[i], marker=markers[i])\n",
    "\n",
    "# Set the axis labels and title\n",
    "ax.set_xlabel('Size')\n",
    "ax.set_ylabel('Time (s)')\n",
    "# ax.set_title('Comparison of runtimes by implementation type and size')\n",
    "\n",
    "# Set the x-axis tick values to only show available sizes\n",
    "ax.set_xticks([500, 1000, 1500, 2000, 2500, 3000, 3500, 4000, 4500])\n",
    "\n",
    "# Add a legend\n",
    "ax.legend(fontsize=15)\n",
    "\n",
    "# Show the plot\n",
    "plt.show()\n"
   ],
   "metadata": {
    "collapsed": false,
    "pycharm": {
     "is_executing": true
    }
   }
  },
  {
   "cell_type": "code",
   "execution_count": null,
   "outputs": [],
   "source": [
    "import math\n",
    "\n",
    "numbers = [504, 999, 1503, 1998, 2502, 2997, 3501, 3996, 4500]\n",
    "gcd = numbers[0]\n",
    "\n",
    "for i in range(1, len(numbers)):\n",
    "    gcd = math.gcd(gcd, numbers[i])\n",
    "\n",
    "print(\"The common divisor of the numbers is:\", gcd)\n"
   ],
   "metadata": {
    "collapsed": false,
    "pycharm": {
     "is_executing": true
    }
   }
  },
  {
   "cell_type": "code",
   "execution_count": 32,
   "outputs": [],
   "source": [
    "block_size = {\n",
    "    \"1\": [],\n",
    "    \"2\": [],\n",
    "    \"4\": [],\n",
    "    \"8\": [],\n",
    "    \"16\": [],\n",
    "    \"32\": [],\n",
    "    \"64\": [],\n",
    "    \"128\": []\n",
    "}"
   ],
   "metadata": {
    "collapsed": false
   }
  },
  {
   "cell_type": "code",
   "execution_count": 33,
   "outputs": [],
   "source": [
    "input_data = \"\"\"\n",
    "1: 0.0104945\n",
    "2: 0.0093684\n",
    "4: 0.00906472\n",
    "8: 0.00909932\n",
    "16: 0.00952969\n",
    "32: 0.0104835\n",
    "64: 0.0106614\n",
    "128: 0.0203033\n",
    "\n",
    "1: 0.0843053\n",
    "2: 0.0727157\n",
    "4: 0.0716224\n",
    "8: 0.0706326\n",
    "16: 0.0723477\n",
    "32: 0.075596\n",
    "64: 0.0822057\n",
    "128: 0.083749\n",
    "\n",
    "1: 0.265107\n",
    "2: 0.25295\n",
    "4: 0.246485\n",
    "8: 0.239233\n",
    "16: 0.237546\n",
    "32: 0.238264\n",
    "64: 0.249639\n",
    "128: 0.248967\n",
    "\n",
    "1: 0.653957\n",
    "2: 0.602363\n",
    "4: 0.575931\n",
    "8: 0.564085\n",
    "16: 0.560378\n",
    "32: 0.573834\n",
    "64: 0.606257\n",
    "128: 0.673454\n",
    "\n",
    "1: 1.75278\n",
    "2: 1.43824\n",
    "4: 1.2593\n",
    "8: 1.1768\n",
    "16: 1.13237\n",
    "32: 1.13505\n",
    "64: 1.16316\n",
    "128: 1.36802\n",
    "\n",
    "1: 3.46614\n",
    "2: 2.69163\n",
    "4: 2.25879\n",
    "8: 2.05513\n",
    "16: 1.96744\n",
    "32: 1.97394\n",
    "64: 2.03604\n",
    "128: 2.16882\n",
    "\n",
    "1: 5.83455\n",
    "2: 4.43644\n",
    "4: 3.76045\n",
    "8: 3.37235\n",
    "16: 3.18692\n",
    "32: 3.19336\n",
    "64: 3.3098\n",
    "128: 3.8507\n",
    "\n",
    "1: 8.08791\n",
    "2: 6.89422\n",
    "4: 6.28002\n",
    "8: 5.9089\n",
    "16: 5.77881\n",
    "32: 5.94145\n",
    "64: 6.20965\n",
    "128: 7.38156\n",
    "\n",
    "1: 16.0394\n",
    "2: 12.2184\n",
    "4: 10.4503\n",
    "8: 9.04071\n",
    "16: 8.50311\n",
    "32: 8.62098\n",
    "64: 9.41218\n",
    "128: 9.54277\n",
    "\"\"\""
   ],
   "metadata": {
    "collapsed": false
   }
  },
  {
   "cell_type": "code",
   "execution_count": 34,
   "outputs": [],
   "source": [
    "# Split input_data in lines and append every value into block_size\n",
    "for line in input_data.split(\"\\n\"):\n",
    "    if len(line) == 0:\n",
    "        continue\n",
    "    size, time = line.split(\": \")\n",
    "    block_size[size].append(float(time))"
   ],
   "metadata": {
    "collapsed": false
   }
  },
  {
   "cell_type": "code",
   "execution_count": null,
   "outputs": [],
   "source": [
    "import matplotlib.pyplot as plt\n",
    "\n",
    "start = 0\n",
    "sizes = [500, 1000, 1500, 2000, 2500, 3000, 3500, 4000, 4500]\n",
    "\n",
    "# Define the line colors and markers\n",
    "colors = ['red', 'blue', 'green', 'purple', 'orange', 'cyan', 'magenta', 'brown', 'gray', 'olive', 'teal', 'navy', 'pink', 'gold']\n",
    "markers = ['o', 's', 'D', '^', 'v', 'P', 'X', '*', '+']\n",
    "markers *= 2\n",
    "\n",
    "# Create a figure and axis object\n",
    "fig, ax = plt.subplots(figsize=(12, 8))\n",
    "\n",
    "# Iterate over the types and plot the corresponding runs\n",
    "for i, t in enumerate(block_size.keys()):\n",
    "    # if t == \"1\" or t == \"2\" or t == \"128\":\n",
    "    #     continue\n",
    "    ax.plot(sizes[start:len(block_size[t])], block_size[t][start:], label=t, color=colors[i], marker=markers[i])\n",
    "\n",
    "# Set the axis labels and title\n",
    "ax.set_xlabel('Size')\n",
    "ax.set_ylabel('Time (s)')\n",
    "# ax.set_title('Comparison of runtimes by implementation type and size')\n",
    "\n",
    "# Set the x-axis tick values to only show available sizes\n",
    "ax.set_xticks(sizes)\n",
    "\n",
    "# Add a legend\n",
    "ax.legend(fontsize=15)\n",
    "\n",
    "# Show the plot\n",
    "plt.show()\n"
   ],
   "metadata": {
    "collapsed": false,
    "pycharm": {
     "is_executing": true
    }
   }
  },
  {
   "cell_type": "code",
   "execution_count": null,
   "outputs": [],
   "source": [],
   "metadata": {
    "collapsed": false
   }
  }
 ],
 "metadata": {
  "kernelspec": {
   "display_name": "Python 3",
   "language": "python",
   "name": "python3"
  },
  "language_info": {
   "codemirror_mode": {
    "name": "ipython",
    "version": 2
   },
   "file_extension": ".py",
   "mimetype": "text/x-python",
   "name": "python",
   "nbconvert_exporter": "python",
   "pygments_lexer": "ipython2",
   "version": "2.7.6"
  }
 },
 "nbformat": 4,
 "nbformat_minor": 0
}
