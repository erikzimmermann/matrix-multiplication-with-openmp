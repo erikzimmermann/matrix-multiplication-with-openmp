{
 "cells": [
  {
   "cell_type": "code",
   "execution_count": 8,
   "metadata": {
    "collapsed": true
   },
   "outputs": [],
   "source": [
    "with open(\"run.out\") as f:\n",
    "    content = f.readlines()\n",
    "\n",
    "sizes = []\n",
    "types = []\n",
    "runs = {}\n",
    "\n",
    "for run in content:\n",
    "    if len(run) == 1 or run.startswith(\"#\"):\n",
    "        continue\n",
    "\n",
    "    type_data, time = run.split(\", \")\n",
    "    algorithm, size = type_data.split(\": \")\n",
    "\n",
    "    time = float(time[6:-2])\n",
    "    size = int(size.split(\"x\")[0])\n",
    "\n",
    "    if size  not in sizes:\n",
    "        sizes.append(size)\n",
    "\n",
    "    if algorithm not in types:\n",
    "        types.append(algorithm)\n",
    "\n",
    "    if algorithm not in runs:\n",
    "        runs[algorithm] = []\n",
    "    runs.get(algorithm).append(time)"
   ]
  },
  {
   "cell_type": "code",
   "execution_count": 12,
   "outputs": [],
   "source": [
    "# sort types list by last value in runs dict\n",
    "types = sorted(types, key=lambda v: runs[v][-1], reverse=True)"
   ],
   "metadata": {
    "collapsed": false
   }
  },
  {
   "cell_type": "code",
   "execution_count": null,
   "outputs": [],
   "source": [
    "import matplotlib.pyplot as plt\n",
    "\n",
    "# Define the x-axis values\n",
    "x = sizes\n",
    "\n",
    "# Define the line colors and markers\n",
    "colors = ['red', 'blue', 'green', 'purple', 'orange', 'cyan', 'black', 'magenta', 'pink', 'teal', 'maroon', 'navy', 'olive', 'silver', 'gold', 'gray', 'brown', 'lime', 'indigo', 'turquoise', 'coral', 'violet']\n",
    "markers = ['o', 's', 'D', '^', 'v', 'P', 'X', '*', '+']\n",
    "markers *= 4\n",
    "\n",
    "\n",
    "# Create a figure and axis object\n",
    "fig, ax = plt.subplots(figsize=(12, 8))\n",
    "\n",
    "# Iterate over the types and plot the corresponding runs\n",
    "for i, t in enumerate(types):\n",
    "    if t == \"omp-38\" or \"mpiomp\" in t:\n",
    "        continue\n",
    "    ax.plot(x[:len(runs[t])], runs[t], label=t, color=colors[i], marker=markers[i])\n",
    "\n",
    "# Set the axis labels and title\n",
    "ax.set_xlabel('Matrix Size', fontsize=15)\n",
    "ax.set_ylabel('Time (s)', fontsize=15)\n",
    "\n",
    "ax.set_xticks([500, 1000, 1500, 2000, 2500, 3000, 3500, 4000, 4500])\n",
    "plt.yticks(fontsize=15)\n",
    "plt.xticks(fontsize=15)\n",
    "\n",
    "# Add a legend\n",
    "ax.legend(fontsize=15)\n",
    "\n",
    "# Show the plot\n",
    "plt.show()\n"
   ],
   "metadata": {
    "collapsed": false,
    "pycharm": {
     "is_executing": true
    }
   }
  },
  {
   "cell_type": "code",
   "execution_count": null,
   "outputs": [],
   "source": [
    "import matplotlib.pyplot as plt\n",
    "\n",
    "# Define the x-axis values\n",
    "x = sizes\n",
    "\n",
    "lookup = [\"omp-16\", \"mpi-16\", \"mpi-25\", \"mpi-36\", \"mpi-49\", \"mpi-64\"]\n",
    "# Define the line colors and markers\n",
    "colors = ['red', 'blue', 'green', 'purple', 'orange', 'cyan', 'black', 'magenta', 'pink', 'teal', 'maroon', 'navy', 'olive', 'silver', 'gold', 'gray', 'brown', 'lime', 'indigo', 'turquoise', 'coral', 'violet']\n",
    "markers = ['o', 's', 'D', '^', 'v', 'P', 'X', '*', '+']\n",
    "markers *= 4\n",
    "\n",
    "# Create a figure and axis object\n",
    "fig, ax = plt.subplots(figsize=(12, 8))\n",
    "\n",
    "# Iterate over the types and plot the corresponding runs\n",
    "for i, t in enumerate(types):\n",
    "    # if t not in lookup:\n",
    "    #     continue\n",
    "    if not t.startswith(\"mpi\") and not t.startswith(\"omp\") or \"-4\" in t or \"-9\" in t or t == \"omp-38\":\n",
    "        continue\n",
    "    ax.plot(x[:len(runs[t])], runs[t], label=t, color=colors[i], marker=markers[i])\n",
    "\n",
    "# Set the axis labels and title\n",
    "ax.set_xlabel('Matrix Size', fontsize=15)\n",
    "ax.set_ylabel('Time (s)', fontsize=15)\n",
    "\n",
    "ax.set_xticks([500, 1000, 1500, 2000, 2500, 3000, 3500, 4000, 4500])\n",
    "plt.yticks(fontsize=15)\n",
    "plt.xticks(fontsize=15)\n",
    "\n",
    "# Add a legend\n",
    "ax.legend(fontsize=15)\n",
    "\n",
    "# Show the plot\n",
    "plt.show()\n"
   ],
   "metadata": {
    "collapsed": false,
    "pycharm": {
     "is_executing": true
    }
   }
  },
  {
   "cell_type": "code",
   "execution_count": null,
   "outputs": [],
   "source": [
    "import math\n",
    "\n",
    "numbers = [504, 999, 1503, 1998, 2502, 2997, 3501, 3996, 4500]\n",
    "gcd = numbers[0]\n",
    "\n",
    "for i in range(1, len(numbers)):\n",
    "    gcd = math.gcd(gcd, numbers[i])\n",
    "\n",
    "print(\"The common divisor of the numbers is:\", gcd)\n"
   ],
   "metadata": {
    "collapsed": false,
    "pycharm": {
     "is_executing": true
    }
   }
  },
  {
   "cell_type": "code",
   "execution_count": 34,
   "outputs": [],
   "source": [
    "block_size = {\n",
    "    \"1\": [],\n",
    "    \"2\": [],\n",
    "    \"4\": [],\n",
    "    \"8\": [],\n",
    "    \"16\": [],\n",
    "    \"32\": [],\n",
    "    \"64\": [],\n",
    "    \"128\": []\n",
    "}"
   ],
   "metadata": {
    "collapsed": false
   }
  },
  {
   "cell_type": "code",
   "execution_count": 35,
   "outputs": [],
   "source": [
    "with open(\"block_size.data\") as f:\n",
    "    input_data = f.readlines()"
   ],
   "metadata": {
    "collapsed": false
   }
  },
  {
   "cell_type": "code",
   "execution_count": 36,
   "outputs": [],
   "source": [
    "# Split input_data in lines and append every value into block_size\n",
    "for line in input_data:\n",
    "    line = line[:-2]\n",
    "    if \": \" not in line:\n",
    "        continue\n",
    "\n",
    "    size, time = line.split(\": \")\n",
    "    block_size[size].append(float(time))"
   ],
   "metadata": {
    "collapsed": false
   }
  },
  {
   "cell_type": "code",
   "execution_count": null,
   "outputs": [],
   "source": [
    "import matplotlib.pyplot as plt\n",
    "\n",
    "start = 0\n",
    "sizes = [500, 1000, 1500, 2000, 2500, 3000, 3500, 4000, 4500]\n",
    "\n",
    "# Define the line colors and markers\n",
    "colors = ['red', 'blue', 'green', 'purple', 'orange', 'cyan', 'magenta', 'brown', 'gray', 'olive', 'teal', 'navy', 'pink', 'gold']\n",
    "markers = ['o', 's', 'D', '^', 'v', 'P', 'X', '*', '+']\n",
    "markers *= 2\n",
    "\n",
    "# Create a figure and axis object\n",
    "fig, ax = plt.subplots(figsize=(12, 8))\n",
    "\n",
    "# Iterate over the types and plot the corresponding runs\n",
    "for i, t in enumerate(block_size.keys()):\n",
    "    # if t == \"1\" or t == \"2\" or t == \"128\":\n",
    "    #     continue\n",
    "    ax.plot(sizes[start:len(block_size[t])], block_size[t][start:], label=t, color=colors[i], marker=markers[i])\n",
    "\n",
    "# Set the axis labels and title\n",
    "ax.set_xlabel('Matrix Size', fontsize=15)\n",
    "ax.set_ylabel('Time (s)', fontsize=15)\n",
    "# ax.set_title('Comparison of runtimes by implementation type and size')\n",
    "\n",
    "# Set the x-axis tick values to only show available sizes\n",
    "ax.set_xticks(sizes)\n",
    "\n",
    "plt.yticks(fontsize=15)\n",
    "plt.xticks(fontsize=15)\n",
    "\n",
    "# Add a legend\n",
    "ax.legend(fontsize=15)\n",
    "\n",
    "# Show the plot\n",
    "plt.show()"
   ],
   "metadata": {
    "collapsed": false,
    "pycharm": {
     "is_executing": true
    }
   }
  },
  {
   "cell_type": "code",
   "execution_count": null,
   "outputs": [],
   "source": [],
   "metadata": {
    "collapsed": false
   }
  }
 ],
 "metadata": {
  "kernelspec": {
   "display_name": "Python 3",
   "language": "python",
   "name": "python3"
  },
  "language_info": {
   "codemirror_mode": {
    "name": "ipython",
    "version": 2
   },
   "file_extension": ".py",
   "mimetype": "text/x-python",
   "name": "python",
   "nbconvert_exporter": "python",
   "pygments_lexer": "ipython2",
   "version": "2.7.6"
  }
 },
 "nbformat": 4,
 "nbformat_minor": 0
}
